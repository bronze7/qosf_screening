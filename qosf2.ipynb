{
 "cells": [
  {
   "cell_type": "code",
   "execution_count": 1,
   "metadata": {},
   "outputs": [],
   "source": [
    "import numpy as np\n",
    "import matplotlib\n",
    "from qiskit import QuantumCircuit, transpile, QuantumRegister, ClassicalRegister\n",
    "from qiskit.visualization import plot_bloch_multivector, plot_histogram\n",
    "from qiskit_aer import Aer\n",
    "from qiskit.circuit.library import VBERippleCarryAdder"
   ]
  },
  {
   "cell_type": "markdown",
   "metadata": {},
   "source": [
    "Task 2 : odd to even"
   ]
  },
  {
   "cell_type": "code",
   "execution_count": 21,
   "metadata": {},
   "outputs": [],
   "source": [
    "def odd_to_even(n, nums):\n",
    "    print(nums)\n",
    "    bin_nums = []\n",
    "    for num in nums:\n",
    "        bin_nums.append(format(num, \"b\"))\n",
    "    bin_n = format(n, \"b\")\n",
    "    #print(bin_nums)\n",
    "    num_qubits = 0\n",
    "    for b_num in bin_nums:\n",
    "        num_qubits = max(len(bin_n), len(b_num))\n",
    "        if max(int(bin_n, 2), int(b_num, 2)) > int(bin_n, 2):\n",
    "            raise Exception(\"A number on the list exceeds the limit\")\n",
    "    circ = QuantumCircuit(num_qubits, num_qubits)\n",
    "    counts = {}\n",
    "    for n in bin_nums:\n",
    "        circ.data = []\n",
    "        #num = str(n)\n",
    "        for i in range(len(n)):\n",
    "            if n[i] == \"1\":\n",
    "                circ.x(len(n) - 1 - i)\n",
    "        if(int(n, 2)%2 != 0):\n",
    "            circ.x(0)\n",
    "        circ.measure(range(num_qubits), range(num_qubits))\n",
    "        backend = Aer.get_backend('qasm_simulator')\n",
    "        t_circ = transpile(circ, backend)\n",
    "        job = backend.run(circ, shots = 1000)\n",
    "        counts.update(job.result().get_counts())\n",
    "    even = list(counts)\n",
    "    final = []\n",
    "    for n in even:\n",
    "        final.append(int(n, 2))\n",
    "    return final, circ"
   ]
  },
  {
   "cell_type": "code",
   "execution_count": 24,
   "metadata": {},
   "outputs": [
    {
     "name": "stdout",
     "output_type": "stream",
     "text": [
      "[1, 3, 6, 8, 10, 15, 19, 23, 25, 26, 29, 31]\n",
      "[0, 2, 6, 8, 10, 14, 18, 22, 24, 26, 28, 30]\n"
     ]
    },
    {
     "data": {
      "text/html": [
       "<pre style=\"word-wrap: normal;white-space: pre;background: #fff0;line-height: 1.1;font-family: &quot;Courier New&quot;,Courier,monospace\">     ┌───┐┌───┐         ┌─┐\n",
       "q_0: ┤ X ├┤ X ├─────────┤M├\n",
       "     ├───┤└┬─┬┘         └╥┘\n",
       "q_1: ┤ X ├─┤M├───────────╫─\n",
       "     ├───┤ └╥┘ ┌─┐       ║ \n",
       "q_2: ┤ X ├──╫──┤M├───────╫─\n",
       "     ├───┤  ║  └╥┘┌─┐    ║ \n",
       "q_3: ┤ X ├──╫───╫─┤M├────╫─\n",
       "     ├───┤  ║   ║ └╥┘┌─┐ ║ \n",
       "q_4: ┤ X ├──╫───╫──╫─┤M├─╫─\n",
       "     └┬─┬┘  ║   ║  ║ └╥┘ ║ \n",
       "q_5: ─┤M├───╫───╫──╫──╫──╫─\n",
       "      └╥┘   ║   ║  ║  ║  ║ \n",
       "c: 6/══╩════╩═══╩══╩══╩══╩═\n",
       "       5    1   2  3  4  0 </pre>"
      ],
      "text/plain": [
       "     ┌───┐┌───┐         ┌─┐\n",
       "q_0: ┤ X ├┤ X ├─────────┤M├\n",
       "     ├───┤└┬─┬┘         └╥┘\n",
       "q_1: ┤ X ├─┤M├───────────╫─\n",
       "     ├───┤ └╥┘ ┌─┐       ║ \n",
       "q_2: ┤ X ├──╫──┤M├───────╫─\n",
       "     ├───┤  ║  └╥┘┌─┐    ║ \n",
       "q_3: ┤ X ├──╫───╫─┤M├────╫─\n",
       "     ├───┤  ║   ║ └╥┘┌─┐ ║ \n",
       "q_4: ┤ X ├──╫───╫──╫─┤M├─╫─\n",
       "     └┬─┬┘  ║   ║  ║ └╥┘ ║ \n",
       "q_5: ─┤M├───╫───╫──╫──╫──╫─\n",
       "      └╥┘   ║   ║  ║  ║  ║ \n",
       "c: 6/══╩════╩═══╩══╩══╩══╩═\n",
       "       5    1   2  3  4  0 "
      ]
     },
     "execution_count": 24,
     "metadata": {},
     "output_type": "execute_result"
    }
   ],
   "source": [
    "even, circuit = odd_to_even(32, [1, 3, 6, 8, 10, 15, 19, 23, 25, 26, 29, 31])\n",
    "print(even)\n",
    "circuit.draw()"
   ]
  },
  {
   "cell_type": "code",
   "execution_count": 20,
   "metadata": {},
   "outputs": [
    {
     "name": "stdout",
     "output_type": "stream",
     "text": [
      "[1, 3, 6, 8, 10, 15, 19, 23, 25, 26, 29, 34]\n"
     ]
    },
    {
     "ename": "Exception",
     "evalue": "A number on the list exceeds the limit",
     "output_type": "error",
     "traceback": [
      "\u001b[1;31m---------------------------------------------------------------------------\u001b[0m",
      "\u001b[1;31mException\u001b[0m                                 Traceback (most recent call last)",
      "Cell \u001b[1;32mIn[20], line 1\u001b[0m\n\u001b[1;32m----> 1\u001b[0m even \u001b[38;5;241m=\u001b[39m \u001b[43modd_to_even\u001b[49m\u001b[43m(\u001b[49m\u001b[38;5;241;43m32\u001b[39;49m\u001b[43m,\u001b[49m\u001b[43m \u001b[49m\u001b[43m[\u001b[49m\u001b[38;5;241;43m1\u001b[39;49m\u001b[43m,\u001b[49m\u001b[43m \u001b[49m\u001b[38;5;241;43m3\u001b[39;49m\u001b[43m,\u001b[49m\u001b[43m \u001b[49m\u001b[38;5;241;43m6\u001b[39;49m\u001b[43m,\u001b[49m\u001b[43m \u001b[49m\u001b[38;5;241;43m8\u001b[39;49m\u001b[43m,\u001b[49m\u001b[43m \u001b[49m\u001b[38;5;241;43m10\u001b[39;49m\u001b[43m,\u001b[49m\u001b[43m \u001b[49m\u001b[38;5;241;43m15\u001b[39;49m\u001b[43m,\u001b[49m\u001b[43m \u001b[49m\u001b[38;5;241;43m19\u001b[39;49m\u001b[43m,\u001b[49m\u001b[43m \u001b[49m\u001b[38;5;241;43m23\u001b[39;49m\u001b[43m,\u001b[49m\u001b[43m \u001b[49m\u001b[38;5;241;43m25\u001b[39;49m\u001b[43m,\u001b[49m\u001b[43m \u001b[49m\u001b[38;5;241;43m26\u001b[39;49m\u001b[43m,\u001b[49m\u001b[43m \u001b[49m\u001b[38;5;241;43m29\u001b[39;49m\u001b[43m,\u001b[49m\u001b[43m \u001b[49m\u001b[38;5;241;43m34\u001b[39;49m\u001b[43m]\u001b[49m\u001b[43m)\u001b[49m\n\u001b[0;32m      2\u001b[0m \u001b[38;5;28mprint\u001b[39m(even)\n",
      "Cell \u001b[1;32mIn[18], line 12\u001b[0m, in \u001b[0;36modd_to_even\u001b[1;34m(n, nums)\u001b[0m\n\u001b[0;32m     10\u001b[0m     num_qubits \u001b[38;5;241m=\u001b[39m \u001b[38;5;28mmax\u001b[39m(\u001b[38;5;28mlen\u001b[39m(bin_n), \u001b[38;5;28mlen\u001b[39m(b_num))\n\u001b[0;32m     11\u001b[0m     \u001b[38;5;28;01mif\u001b[39;00m \u001b[38;5;28mmax\u001b[39m(\u001b[38;5;28mint\u001b[39m(bin_n, \u001b[38;5;241m2\u001b[39m), \u001b[38;5;28mint\u001b[39m(b_num, \u001b[38;5;241m2\u001b[39m)) \u001b[38;5;241m>\u001b[39m \u001b[38;5;28mint\u001b[39m(bin_n, \u001b[38;5;241m2\u001b[39m):\n\u001b[1;32m---> 12\u001b[0m         \u001b[38;5;28;01mraise\u001b[39;00m \u001b[38;5;167;01mException\u001b[39;00m(\u001b[38;5;124m\"\u001b[39m\u001b[38;5;124mA number on the list exceeds the limit\u001b[39m\u001b[38;5;124m\"\u001b[39m)\n\u001b[0;32m     13\u001b[0m circ \u001b[38;5;241m=\u001b[39m QuantumCircuit(num_qubits, num_qubits)\n\u001b[0;32m     14\u001b[0m counts \u001b[38;5;241m=\u001b[39m {}\n",
      "\u001b[1;31mException\u001b[0m: A number on the list exceeds the limit"
     ]
    }
   ],
   "source": [
    "even = odd_to_even(32, [1, 3, 6, 8, 10, 15, 19, 23, 25, 26, 29, 34])\n",
    "print(even)"
   ]
  }
 ],
 "metadata": {
  "kernelspec": {
   "display_name": "base",
   "language": "python",
   "name": "python3"
  },
  "language_info": {
   "codemirror_mode": {
    "name": "ipython",
    "version": 3
   },
   "file_extension": ".py",
   "mimetype": "text/x-python",
   "name": "python",
   "nbconvert_exporter": "python",
   "pygments_lexer": "ipython3",
   "version": "3.10.9"
  }
 },
 "nbformat": 4,
 "nbformat_minor": 2
}
